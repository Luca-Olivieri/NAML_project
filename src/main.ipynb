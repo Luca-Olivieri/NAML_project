{
  "cells": [
    {
      "cell_type": "markdown",
      "metadata": {
        "id": "SvrDQjvDssAN"
      },
      "source": [
        "# Imports"
      ]
    },
    {
      "cell_type": "markdown",
      "metadata": {
        "id": "5WdM-y25ssAY"
      },
      "source": [
        "### Libraries"
      ]
    },
    {
      "cell_type": "code",
      "execution_count": 230,
      "metadata": {
        "id": "PPLRs5BessAY"
      },
      "outputs": [],
      "source": [
        "import os\n",
        "from pathlib import Path\n",
        "import cv2\n",
        "import numpy as np\n",
        "import matplotlib.pyplot as plt\n",
        "import seaborn as sns\n",
        "\n",
        "from tabulate import tabulate\n",
        "\n",
        "import torch\n",
        "import torchvision.models as models\n",
        "from torchvision import transforms\n",
        "from torch.utils.data import DataLoader, Dataset\n",
        "import torch.nn as nn\n",
        "import torch.optim as optim\n",
        "from torchvision.transforms import transforms\n",
        "from torchvision import transforms, models"
      ]
    },
    {
      "cell_type": "markdown",
      "metadata": {
        "id": "sTrFF0S_ssAY"
      },
      "source": [
        "# Resources Import"
      ]
    },
    {
      "cell_type": "code",
      "execution_count": 231,
      "metadata": {
        "colab": {
          "base_uri": "https://localhost:8080/"
        },
        "id": "x61WbR9tssAZ",
        "outputId": "2ed6f4aa-ca38-4652-d51c-a3ed69e76425"
      },
      "outputs": [
        {
          "name": "stdout",
          "output_type": "stream",
          "text": [
            "fatal: destination path 'NAML_project' already exists and is not an empty directory.\n"
          ]
        }
      ],
      "source": [
        "!git clone https://github.com/Luca-Olivieri/NAML_project.git"
      ]
    },
    {
      "cell_type": "markdown",
      "metadata": {
        "id": "Cfp6Sv5TssAa"
      },
      "source": [
        "### Resources paths"
      ]
    },
    {
      "cell_type": "code",
      "execution_count": 232,
      "metadata": {
        "id": "ixBHnuqissAW"
      },
      "outputs": [],
      "source": [
        "local_path = \"/content/\"\n",
        "project_path = local_path+\"NAML_project\"\n",
        "dataset_path = local_path+\"neuroendocrine_\""
      ]
    },
    {
      "cell_type": "markdown",
      "metadata": {
        "id": "eT3s5EUVssAZ"
      },
      "source": [
        "### Scripts"
      ]
    },
    {
      "cell_type": "code",
      "execution_count": 233,
      "metadata": {
        "id": "_L56G9IbssAZ"
      },
      "outputs": [],
      "source": [
        "import sys\n",
        "\n",
        "sys.path.append(f\"{project_path}/src/\")"
      ]
    },
    {
      "cell_type": "code",
      "execution_count": 234,
      "metadata": {
        "id": "OOeYHNeQssAZ"
      },
      "outputs": [],
      "source": [
        "import models_manager\n",
        "import data_manager\n",
        "import eval_manager"
      ]
    },
    {
      "cell_type": "markdown",
      "metadata": {
        "id": "utlR7eTyssAa"
      },
      "source": [
        "### Seeds"
      ]
    },
    {
      "cell_type": "code",
      "execution_count": 235,
      "metadata": {
        "id": "r6ptiQ5yJFjA"
      },
      "outputs": [],
      "source": [
        "seed_value = 42\n",
        "\n",
        "np.random.seed(seed_value)  # NumPy\n",
        "torch.manual_seed(seed_value)  # PyTorch CPU\n",
        "torch.cuda.manual_seed_all(seed_value)  # PyTorch GPU"
      ]
    },
    {
      "cell_type": "markdown",
      "metadata": {
        "id": "r0NaXTwvssAb"
      },
      "source": [
        "# Model Import"
      ]
    },
    {
      "cell_type": "markdown",
      "metadata": {
        "id": "a1fezVKNssAb"
      },
      "source": [
        "Import one of the pre-trained models.\n",
        "\n",
        "Available models:\n",
        "\n",
        "- Inception v3\n",
        "- AlexNet"
      ]
    },
    {
      "cell_type": "code",
      "execution_count": 236,
      "metadata": {
        "id": "IcWGs8jjssAb"
      },
      "outputs": [],
      "source": [
        "model_name = \"inceptionv3\"\n",
        "# model_name = \"AlexNet\""
      ]
    },
    {
      "cell_type": "markdown",
      "metadata": {
        "id": "GQ_N3B_JssAb"
      },
      "source": [
        "Select version:"
      ]
    },
    {
      "cell_type": "code",
      "execution_count": 237,
      "metadata": {
        "id": "5WMaqLaBssAc"
      },
      "outputs": [],
      "source": [
        "version = \"v1\""
      ]
    },
    {
      "cell_type": "code",
      "execution_count": 238,
      "metadata": {
        "id": "JyKylxe-ssAc"
      },
      "outputs": [],
      "source": [
        "model = models_manager.import_model(model_name)"
      ]
    },
    {
      "cell_type": "code",
      "execution_count": 239,
      "metadata": {
        "id": "3XoKJaYtJiL2"
      },
      "outputs": [],
      "source": [
        "# Check if GPU is available\n",
        "device = torch.device(\"cuda\" if torch.cuda.is_available() else \"cpu\")\n",
        "model = model.to(device)"
      ]
    },
    {
      "cell_type": "code",
      "execution_count": 240,
      "metadata": {
        "id": "BBJ7oy1VuqQM"
      },
      "outputs": [],
      "source": [
        "models_manager.setup_model(model, device)"
      ]
    },
    {
      "cell_type": "markdown",
      "metadata": {
        "id": "l5eOBHuZssAc"
      },
      "source": [
        "# Data Ingestion"
      ]
    },
    {
      "cell_type": "markdown",
      "metadata": {
        "id": "YbuA17mWssAc"
      },
      "source": [
        "Download dataset from GitHub:"
      ]
    },
    {
      "cell_type": "code",
      "execution_count": 241,
      "metadata": {
        "colab": {
          "base_uri": "https://localhost:8080/"
        },
        "id": "Ljz2R5XZssAc",
        "outputId": "0c29fe43-4bda-4560-d40d-3f50b9993d06"
      },
      "outputs": [
        {
          "name": "stdout",
          "output_type": "stream",
          "text": [
            "fatal: destination path 'neuroendocrine_' already exists and is not an empty directory.\n"
          ]
        }
      ],
      "source": [
        "!git clone https://github.com/cialab/neuroendocrine_"
      ]
    },
    {
      "cell_type": "markdown",
      "metadata": {
        "id": "UVn-m3lZssAd"
      },
      "source": [
        "# Training/Loading"
      ]
    },
    {
      "cell_type": "markdown",
      "metadata": {
        "id": "8vlDPyh-ssAd"
      },
      "source": [
        "Control the training/loading and saving functionalities:\n",
        "\n",
        "- **training**: if yes, performs the computational training of the model. Otherwise, downloads and loads the already trained parameters.\n",
        "- **save**: if yes, saves the current state of the model (regardless of the fact that the training has been performed or not).\n",
        "\n",
        "**Important**: write operations are performed even if files are already present in the runtime. Hence, old files are over-written."
      ]
    },
    {
      "cell_type": "code",
      "execution_count": 242,
      "metadata": {
        "id": "UsRPDgLsssAd"
      },
      "outputs": [],
      "source": [
        "training = True\n",
        "save = False # regardless of the actual training"
      ]
    },
    {
      "cell_type": "markdown",
      "metadata": {
        "id": "CzxzqjLHssAd"
      },
      "source": [
        "Dataset is very unbalanced, so I create a dataset containing 50% tumor and 50% non tumor subimages.\n",
        "I tried to trained on the original unbaiased dataset and the network pretty much always predicted tumor (because in training 90% of subimages are tumor)"
      ]
    },
    {
      "cell_type": "code",
      "execution_count": 243,
      "metadata": {
        "colab": {
          "base_uri": "https://localhost:8080/",
          "height": 588
        },
        "id": "zKmjDX4q9dhd",
        "outputId": "f92f9ed2-0bc4-43f3-8545-90843bc82bb3"
      },
      "outputs": [
        {
          "name": "stdout",
          "output_type": "stream",
          "text": [
            "Shape of the train_images array: (778721, 64, 64, 3)\n",
            "Shape of the train_labels array: (778721,)\n",
            "Shape of the val_images array: (39525, 64, 64, 3)\n",
            "Shape of the val_labels array: (39525,)\n",
            "Iteration [10/1135], Epoch [1/1], Loss: 0.4985\n",
            "Iteration [20/1135], Epoch [1/1], Loss: 0.4051\n",
            "Iteration [30/1135], Epoch [1/1], Loss: 0.3529\n",
            "Iteration [40/1135], Epoch [1/1], Loss: 0.3224\n"
          ]
        },
        {
          "ename": "KeyboardInterrupt",
          "evalue": "",
          "output_type": "error",
          "traceback": [
            "\u001b[0;31m---------------------------------------------------------------------------\u001b[0m",
            "\u001b[0;31mKeyboardInterrupt\u001b[0m                         Traceback (most recent call last)",
            "\u001b[0;32m<ipython-input-243-42347d8c9ee4>\u001b[0m in \u001b[0;36m<cell line: 1>\u001b[0;34m()\u001b[0m\n\u001b[1;32m      8\u001b[0m \u001b[0;34m\u001b[0m\u001b[0m\n\u001b[1;32m      9\u001b[0m         \u001b[0;31m# Proceed with the training loop\u001b[0m\u001b[0;34m\u001b[0m\u001b[0;34m\u001b[0m\u001b[0m\n\u001b[0;32m---> 10\u001b[0;31m \tmodels_manager.train(model, optimizer, undersampled_loader, device,\n\u001b[0m\u001b[1;32m     11\u001b[0m \t                     num_epochs=1, max_train=100, print_every=10)\n\u001b[1;32m     12\u001b[0m \u001b[0;34m\u001b[0m\u001b[0m\n",
            "\u001b[0;32m/content/NAML_project/src/models_manager.py\u001b[0m in \u001b[0;36mtrain\u001b[0;34m(model, optimizer, dataloader, device, num_epochs, max_train, print_every)\u001b[0m\n\u001b[1;32m     97\u001b[0m    \u001b[0mcriterion\u001b[0m \u001b[0;34m=\u001b[0m \u001b[0mnn\u001b[0m\u001b[0;34m.\u001b[0m\u001b[0mCrossEntropyLoss\u001b[0m\u001b[0;34m(\u001b[0m\u001b[0;34m)\u001b[0m\u001b[0;34m\u001b[0m\u001b[0;34m\u001b[0m\u001b[0m\n\u001b[1;32m     98\u001b[0m \u001b[0;34m\u001b[0m\u001b[0m\n\u001b[0;32m---> 99\u001b[0;31m    \u001b[0mtraining_loop\u001b[0m\u001b[0;34m(\u001b[0m\u001b[0mmodel\u001b[0m\u001b[0;34m,\u001b[0m \u001b[0moptimizer\u001b[0m\u001b[0;34m,\u001b[0m \u001b[0mcriterion\u001b[0m\u001b[0;34m,\u001b[0m \u001b[0mdataloader\u001b[0m\u001b[0;34m,\u001b[0m \u001b[0mdevice\u001b[0m\u001b[0;34m,\u001b[0m \u001b[0mnum_epochs\u001b[0m\u001b[0;34m,\u001b[0m \u001b[0mmax_train\u001b[0m\u001b[0;34m,\u001b[0m \u001b[0mprint_every\u001b[0m\u001b[0;34m)\u001b[0m\u001b[0;34m\u001b[0m\u001b[0;34m\u001b[0m\u001b[0m\n\u001b[0m\u001b[1;32m    100\u001b[0m \u001b[0;34m\u001b[0m\u001b[0m\n\u001b[1;32m    101\u001b[0m \u001b[0;32mdef\u001b[0m \u001b[0mload_params\u001b[0m\u001b[0;34m(\u001b[0m\u001b[0mmodel\u001b[0m\u001b[0;34m,\u001b[0m \u001b[0mlocal_path\u001b[0m\u001b[0;34m,\u001b[0m \u001b[0mproject_path\u001b[0m\u001b[0;34m,\u001b[0m \u001b[0mversion\u001b[0m\u001b[0;34m,\u001b[0m \u001b[0mdevice\u001b[0m\u001b[0;34m)\u001b[0m\u001b[0;34m:\u001b[0m\u001b[0;34m\u001b[0m\u001b[0;34m\u001b[0m\u001b[0m\n",
            "\u001b[0;32m/content/NAML_project/src/models_manager.py\u001b[0m in \u001b[0;36mtraining_loop\u001b[0;34m(model, optimizer, criterion, dataloader, device, num_epochs, max_train, print_every)\u001b[0m\n\u001b[1;32m     80\u001b[0m \u001b[0;34m\u001b[0m\u001b[0m\n\u001b[1;32m     81\u001b[0m             \u001b[0;31m# Append loss\u001b[0m\u001b[0;34m\u001b[0m\u001b[0;34m\u001b[0m\u001b[0m\n\u001b[0;32m---> 82\u001b[0;31m             \u001b[0mrunning_loss\u001b[0m \u001b[0;34m+=\u001b[0m \u001b[0mloss\u001b[0m\u001b[0;34m.\u001b[0m\u001b[0mitem\u001b[0m\u001b[0;34m(\u001b[0m\u001b[0;34m)\u001b[0m \u001b[0;34m*\u001b[0m \u001b[0minputs\u001b[0m\u001b[0;34m.\u001b[0m\u001b[0msize\u001b[0m\u001b[0;34m(\u001b[0m\u001b[0;36m0\u001b[0m\u001b[0;34m)\u001b[0m\u001b[0;34m\u001b[0m\u001b[0;34m\u001b[0m\u001b[0m\n\u001b[0m\u001b[1;32m     83\u001b[0m \u001b[0;34m\u001b[0m\u001b[0m\n\u001b[1;32m     84\u001b[0m             \u001b[0;31m# Print average loss every print_every iterations\u001b[0m\u001b[0;34m\u001b[0m\u001b[0;34m\u001b[0m\u001b[0m\n",
            "\u001b[0;31mKeyboardInterrupt\u001b[0m: "
          ]
        }
      ],
      "source": [
        "if training == True:\n",
        "\n",
        "\tbatch_size = 100\n",
        "\tundersampled_loader = data_manager.create_dataloader(dataset_path, batch_size, removeIndex = 0)\n",
        "\n",
        "\t# optimizer = optim.SGD(inceptionv3.parameters(), lr=0.001, momentum=0.9)\n",
        "\toptimizer = optim.Adam(model.parameters(), lr=0.001)\n",
        "\n",
        "\t# Proceed with the training loop\n",
        "\tmodels_manager.train(model, optimizer, undersampled_loader, device,\n",
        "\t                     num_epochs=1, max_train=100, print_every=10)\n",
        "\n",
        "else:\n",
        "\n",
        "\t# Load custom pre-trained parameters\n",
        "\tmodels_manager.load_params(model, local_path, project_path, version, device)"
      ]
    },
    {
      "cell_type": "markdown",
      "metadata": {
        "id": "zSqVawayssAe"
      },
      "source": [
        "### Parameters saving"
      ]
    },
    {
      "cell_type": "code",
      "execution_count": null,
      "metadata": {
        "id": "7nSuCAgZssAe"
      },
      "outputs": [],
      "source": [
        "if save == True:\n",
        "   models_manager.save_params(model, local_path)"
      ]
    },
    {
      "cell_type": "markdown",
      "metadata": {
        "id": "bs4yrm_7ssAe"
      },
      "source": [
        "# Testing"
      ]
    },
    {
      "cell_type": "markdown",
      "metadata": {
        "id": "MVgM3jpsssAf"
      },
      "source": [
        "Control the prediction/loading and writing functionalities:\n",
        "\n",
        "- **pred**: if yes, performs the computational prediction of a selected image's segmentation. Otherwise, loads the file avg.png from the Colab runtime (if it is not present, it downloads it from th GitHub project's repo).\n",
        "- **avg_write**: if yes, write to the Colab runtime the raw output of the model based on the chosen image (regardless of the fact that the computation has been performed or not).\n",
        "- **output_write**: if yes, write to the Colab runtime the thresholded output of the model based on the chosen image (regardless of the fact that the computation has been performed or not).\n",
        "\n",
        "**Important**: write operations are performed even if files are already present in the runtime. Hence, old files are over-written."
      ]
    },
    {
      "cell_type": "code",
      "execution_count": null,
      "metadata": {
        "id": "AgESr6-ossAf"
      },
      "outputs": [],
      "source": [
        "compute = False # If true, compute the mask prediction of a chosen image; otherwise, consider the already pre-computed prediction\n",
        "avg_write = False # Write the avg photo to Colab, regardless of the actual computation or not\n",
        "output_write = False # Write the final output photo to Colab"
      ]
    },
    {
      "cell_type": "code",
      "execution_count": null,
      "metadata": {
        "id": "TfaI0AkYssAf"
      },
      "outputs": [],
      "source": [
        "img_idx = 0 # index of image chosen for evaluation (loaded avg.png refers to -1)"
      ]
    },
    {
      "cell_type": "markdown",
      "metadata": {
        "id": "7mb-UCl6NWb6"
      },
      "source": [
        "### Target visualisation"
      ]
    },
    {
      "cell_type": "markdown",
      "metadata": {
        "id": "iOJk5uu5NfoA"
      },
      "source": [
        "Available photos:"
      ]
    },
    {
      "cell_type": "code",
      "execution_count": null,
      "metadata": {
        "id": "UpV7IEN1MWQO"
      },
      "outputs": [],
      "source": [
        "images_paths = data_manager.get_images(dataset_path, test=False)\n",
        "masks_paths = data_manager.get_images(dataset_path, test=True)"
      ]
    },
    {
      "cell_type": "code",
      "execution_count": null,
      "metadata": {
        "id": "w_oAqj56Nhvh"
      },
      "outputs": [],
      "source": [
        "images_paths"
      ]
    },
    {
      "cell_type": "markdown",
      "metadata": {
        "id": "mV612ynFNLBA"
      },
      "source": [
        "Considered photo:"
      ]
    },
    {
      "cell_type": "code",
      "execution_count": null,
      "metadata": {
        "id": "MMB3GZGtNKvk"
      },
      "outputs": [],
      "source": [
        "images_paths[img_idx], masks_paths[img_idx]"
      ]
    },
    {
      "cell_type": "code",
      "execution_count": null,
      "metadata": {
        "id": "2gx4_O1eNQWv"
      },
      "outputs": [],
      "source": [
        "testImage = cv2.imread(str(images_paths[img_idx]))\n",
        "testMask = cv2.imread(str(masks_paths[img_idx]))\n",
        "\n",
        "plt.imshow(testImage)\n",
        "plt.imshow(testMask, alpha=0.5)"
      ]
    },
    {
      "cell_type": "markdown",
      "metadata": {
        "id": "KBnlr7l_OCjM"
      },
      "source": [
        "### Mask prediction"
      ]
    },
    {
      "cell_type": "code",
      "execution_count": null,
      "metadata": {
        "id": "VB1jXuiEN94O"
      },
      "outputs": [],
      "source": [
        "if compute == True:\n",
        "  avg = models_manager.predict(model, device, testImage)\n",
        "\n",
        "else:\n",
        "  avg = models_manager.get_prediction(\n",
        "      model, local_path, project_path, version)"
      ]
    },
    {
      "cell_type": "markdown",
      "metadata": {
        "id": "S8DI6qN6UvN4"
      },
      "source": [
        "### Mask predition saving"
      ]
    },
    {
      "cell_type": "code",
      "execution_count": null,
      "metadata": {
        "id": "igmPP8EDUuwe"
      },
      "outputs": [],
      "source": [
        "if avg_write == True:\n",
        "   cv2.imwrite('avg.png', avg*255)"
      ]
    },
    {
      "cell_type": "markdown",
      "metadata": {
        "id": "XRUD68BFWs0O"
      },
      "source": [
        "Visualisations"
      ]
    },
    {
      "cell_type": "markdown",
      "metadata": {
        "id": "Ud8k1pt4U7vd"
      },
      "source": [
        "Raw output of the segmentation:"
      ]
    },
    {
      "cell_type": "code",
      "execution_count": null,
      "metadata": {
        "id": "bHUv8YPXWV2H"
      },
      "outputs": [],
      "source": [
        "raw_output = models_manager.beautify_output(avg)\n",
        "models_manager.visualise_output(raw_output)"
      ]
    },
    {
      "cell_type": "markdown",
      "metadata": {
        "id": "SuKJkWeKW05p"
      },
      "source": [
        "Thresholded output:"
      ]
    },
    {
      "cell_type": "code",
      "execution_count": null,
      "metadata": {
        "id": "jqiv-sieW5bw"
      },
      "outputs": [],
      "source": [
        "thr = 0.65 # threshold\n",
        "\n",
        "thr_output = models_manager.threshold_output(avg, thr)\n",
        "models_manager.visualise_output(thr_output)"
      ]
    },
    {
      "cell_type": "markdown",
      "metadata": {
        "id": "jxvope3SY_Fm"
      },
      "source": [
        "Prediction saving:"
      ]
    },
    {
      "cell_type": "code",
      "execution_count": null,
      "metadata": {
        "id": "4eAQYLTzY4rS"
      },
      "outputs": [],
      "source": [
        "models_manager.save_prediction(thr_output)"
      ]
    },
    {
      "cell_type": "markdown",
      "metadata": {
        "id": "DOL0BtTBZkF1"
      },
      "source": [
        "# Evaluation"
      ]
    },
    {
      "cell_type": "markdown",
      "metadata": {
        "id": "44kF0xCfcz_S"
      },
      "source": [
        "###Metrics"
      ]
    },
    {
      "cell_type": "code",
      "execution_count": null,
      "metadata": {
        "id": "Dz-UnoOD9q2S"
      },
      "outputs": [],
      "source": [
        "tumor = True"
      ]
    },
    {
      "cell_type": "code",
      "execution_count": null,
      "metadata": {
        "id": "WNUWKlqHgNKB"
      },
      "outputs": [],
      "source": [
        "y_true = eval_manager.get_true_labels(testMask, tumor)\n",
        "y_pred = eval_manager.get_pred_labels(thr_output, tumor)"
      ]
    },
    {
      "cell_type": "markdown",
      "metadata": {
        "id": "474st347c-A9"
      },
      "source": [
        "Compute metrics:\n",
        "- Accuracy\n",
        "- ..."
      ]
    },
    {
      "cell_type": "code",
      "execution_count": null,
      "metadata": {
        "id": "AMmkox2-FlZk"
      },
      "outputs": [],
      "source": [
        "acc = eval_manager.pixel_accuracy(y_true, y_pred)\n",
        "prec = eval_manager.pixel_precision(y_true, y_pred)\n",
        "recall = eval_manager.pixel_recall(y_true, y_pred)\n",
        "iou = eval_manager.intersection_over_union(y_true, y_pred)\n",
        "dice = eval_manager.dice_coefficient(y_true, y_pred)"
      ]
    },
    {
      "cell_type": "markdown",
      "metadata": {
        "id": "XdjuRowVGaQl"
      },
      "source": [
        "Show metric table:"
      ]
    },
    {
      "cell_type": "code",
      "execution_count": null,
      "metadata": {
        "id": "HOMkvt4hcrBB"
      },
      "outputs": [],
      "source": [
        "eval_manager.show_metrics(acc, prec, recall, iou, dice)"
      ]
    },
    {
      "cell_type": "markdown",
      "metadata": {
        "id": "0INCXIvHjrf1"
      },
      "source": [
        "### Confusion matrix:"
      ]
    },
    {
      "cell_type": "code",
      "execution_count": null,
      "metadata": {
        "id": "IAUmBrVAjtW1"
      },
      "outputs": [],
      "source": [
        "conf_matrix = eval_manager.conf_matrix(y_true, y_pred)\n",
        "conf_norm_matrix = eval_manager.conf_matrix(y_true, y_pred,\n",
        "                                            normalise=\"true\")"
      ]
    },
    {
      "cell_type": "code",
      "execution_count": null,
      "metadata": {
        "id": "6ueuAbgzm5k4"
      },
      "outputs": [],
      "source": [
        "eval_manager.show_conf_matrices(conf_matrix, conf_norm_matrix)"
      ]
    },
    {
      "cell_type": "markdown",
      "metadata": {
        "id": "OhcxQXe3HcGQ"
      },
      "source": [
        "### Visualisation"
      ]
    },
    {
      "cell_type": "markdown",
      "metadata": {
        "id": "bDZSdwvrHeUX"
      },
      "source": [
        "Visualisation of prediction border onto input image:"
      ]
    },
    {
      "cell_type": "code",
      "execution_count": null,
      "metadata": {
        "id": "R1MfJsT3IENA"
      },
      "outputs": [],
      "source": [
        "eval_manager.visualize_bordered_mask(testImage, thr_output, radius=2)"
      ]
    }
  ],
  "metadata": {
    "accelerator": "GPU",
    "colab": {
      "gpuType": "T4",
      "provenance": []
    },
    "kernelspec": {
      "display_name": "Python 3",
      "name": "python3"
    },
    "language_info": {
      "codemirror_mode": {
        "name": "ipython",
        "version": 3
      },
      "file_extension": ".py",
      "mimetype": "text/x-python",
      "name": "python",
      "nbconvert_exporter": "python",
      "pygments_lexer": "ipython3",
      "version": "3.11.7"
    }
  },
  "nbformat": 4,
  "nbformat_minor": 0
}
