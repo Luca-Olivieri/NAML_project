{
 "cells": [
  {
   "cell_type": "code",
   "execution_count": 626,
   "metadata": {},
   "outputs": [],
   "source": [
    "import pandas as pd\n",
    "import json"
   ]
  },
  {
   "cell_type": "markdown",
   "metadata": {},
   "source": [
    "Inception v3 trained on balanced dataset, focal loss $\\gamma = 2$, 5 epochs, 100 batch size, Adam lr=0.0005"
   ]
  },
  {
   "cell_type": "code",
   "execution_count": 627,
   "metadata": {},
   "outputs": [],
   "source": [
    "path = \"inception_v3/results/fl/\""
   ]
  },
  {
   "cell_type": "code",
   "execution_count": 628,
   "metadata": {},
   "outputs": [],
   "source": [
    "df = pd.read_csv(path+\"avg_metrics.csv\")"
   ]
  },
  {
   "cell_type": "code",
   "execution_count": 629,
   "metadata": {},
   "outputs": [],
   "source": [
    "# Function to parse indices string into list of ints\n",
    "def parse_json_column(json_str):\n",
    "    try:\n",
    "        return json.loads(json_str)\n",
    "    except (TypeError, json.JSONDecodeError):\n",
    "        return None\n",
    "\n",
    "# Apply the parsing function to the 'data' column\n",
    "df['image_idxs'] = df['image_idxs'].apply(parse_json_column)"
   ]
  },
  {
   "cell_type": "code",
   "execution_count": 630,
   "metadata": {},
   "outputs": [
    {
     "data": {
      "text/html": [
       "<div>\n",
       "<style scoped>\n",
       "    .dataframe tbody tr th:only-of-type {\n",
       "        vertical-align: middle;\n",
       "    }\n",
       "\n",
       "    .dataframe tbody tr th {\n",
       "        vertical-align: top;\n",
       "    }\n",
       "\n",
       "    .dataframe thead th {\n",
       "        text-align: right;\n",
       "    }\n",
       "</style>\n",
       "<table border=\"1\" class=\"dataframe\">\n",
       "  <thead>\n",
       "    <tr style=\"text-align: right;\">\n",
       "      <th></th>\n",
       "      <th>image_idxs</th>\n",
       "      <th>accuracy</th>\n",
       "      <th>precision</th>\n",
       "      <th>specificity</th>\n",
       "      <th>sensibility</th>\n",
       "      <th>IoU</th>\n",
       "      <th>dice_coeff</th>\n",
       "      <th>f1_score</th>\n",
       "    </tr>\n",
       "  </thead>\n",
       "  <tbody>\n",
       "    <tr>\n",
       "      <th>0</th>\n",
       "      <td>[0, 1, 2]</td>\n",
       "      <td>0.923582</td>\n",
       "      <td>0.944153</td>\n",
       "      <td>0.803675</td>\n",
       "      <td>0.955514</td>\n",
       "      <td>0.904632</td>\n",
       "      <td>0.949778</td>\n",
       "      <td>0.867521</td>\n",
       "    </tr>\n",
       "    <tr>\n",
       "      <th>1</th>\n",
       "      <td>[3, 4, 5]</td>\n",
       "      <td>0.876938</td>\n",
       "      <td>0.901001</td>\n",
       "      <td>0.668477</td>\n",
       "      <td>0.934825</td>\n",
       "      <td>0.847833</td>\n",
       "      <td>0.917488</td>\n",
       "      <td>0.761862</td>\n",
       "    </tr>\n",
       "    <tr>\n",
       "      <th>2</th>\n",
       "      <td>[6, 7, 8]</td>\n",
       "      <td>0.958776</td>\n",
       "      <td>0.959478</td>\n",
       "      <td>0.379743</td>\n",
       "      <td>0.996992</td>\n",
       "      <td>0.956734</td>\n",
       "      <td>0.977843</td>\n",
       "      <td>0.504840</td>\n",
       "    </tr>\n",
       "    <tr>\n",
       "      <th>3</th>\n",
       "      <td>[9, 10, 11]</td>\n",
       "      <td>0.925365</td>\n",
       "      <td>0.927591</td>\n",
       "      <td>0.586084</td>\n",
       "      <td>0.988546</td>\n",
       "      <td>0.917742</td>\n",
       "      <td>0.957096</td>\n",
       "      <td>0.718273</td>\n",
       "    </tr>\n",
       "    <tr>\n",
       "      <th>4</th>\n",
       "      <td>[12, 13, 14]</td>\n",
       "      <td>0.944898</td>\n",
       "      <td>0.958782</td>\n",
       "      <td>0.576420</td>\n",
       "      <td>0.980369</td>\n",
       "      <td>0.940861</td>\n",
       "      <td>0.969433</td>\n",
       "      <td>0.714726</td>\n",
       "    </tr>\n",
       "    <tr>\n",
       "      <th>5</th>\n",
       "      <td>[15, 16, 17]</td>\n",
       "      <td>0.877045</td>\n",
       "      <td>0.890821</td>\n",
       "      <td>0.667746</td>\n",
       "      <td>0.926476</td>\n",
       "      <td>0.834710</td>\n",
       "      <td>0.908125</td>\n",
       "      <td>0.751503</td>\n",
       "    </tr>\n",
       "    <tr>\n",
       "      <th>6</th>\n",
       "      <td>[18, 19, 20]</td>\n",
       "      <td>0.958472</td>\n",
       "      <td>0.966655</td>\n",
       "      <td>0.743838</td>\n",
       "      <td>0.986787</td>\n",
       "      <td>0.954289</td>\n",
       "      <td>0.976567</td>\n",
       "      <td>0.839826</td>\n",
       "    </tr>\n",
       "    <tr>\n",
       "      <th>7</th>\n",
       "      <td>[21, 22, 23]</td>\n",
       "      <td>0.565221</td>\n",
       "      <td>0.938074</td>\n",
       "      <td>0.592196</td>\n",
       "      <td>0.489018</td>\n",
       "      <td>0.465990</td>\n",
       "      <td>0.623366</td>\n",
       "      <td>0.598168</td>\n",
       "    </tr>\n",
       "    <tr>\n",
       "      <th>8</th>\n",
       "      <td>[24, 25, 26]</td>\n",
       "      <td>0.866663</td>\n",
       "      <td>0.931240</td>\n",
       "      <td>0.177983</td>\n",
       "      <td>0.918663</td>\n",
       "      <td>0.852784</td>\n",
       "      <td>0.919621</td>\n",
       "      <td>0.212807</td>\n",
       "    </tr>\n",
       "    <tr>\n",
       "      <th>9</th>\n",
       "      <td>[27, 28, 29]</td>\n",
       "      <td>0.852006</td>\n",
       "      <td>0.982441</td>\n",
       "      <td>0.925630</td>\n",
       "      <td>0.835340</td>\n",
       "      <td>0.823073</td>\n",
       "      <td>0.902938</td>\n",
       "      <td>0.953106</td>\n",
       "    </tr>\n",
       "  </tbody>\n",
       "</table>\n",
       "</div>"
      ],
      "text/plain": [
       "     image_idxs  accuracy  precision  specificity  sensibility       IoU  \\\n",
       "0     [0, 1, 2]  0.923582   0.944153     0.803675     0.955514  0.904632   \n",
       "1     [3, 4, 5]  0.876938   0.901001     0.668477     0.934825  0.847833   \n",
       "2     [6, 7, 8]  0.958776   0.959478     0.379743     0.996992  0.956734   \n",
       "3   [9, 10, 11]  0.925365   0.927591     0.586084     0.988546  0.917742   \n",
       "4  [12, 13, 14]  0.944898   0.958782     0.576420     0.980369  0.940861   \n",
       "5  [15, 16, 17]  0.877045   0.890821     0.667746     0.926476  0.834710   \n",
       "6  [18, 19, 20]  0.958472   0.966655     0.743838     0.986787  0.954289   \n",
       "7  [21, 22, 23]  0.565221   0.938074     0.592196     0.489018  0.465990   \n",
       "8  [24, 25, 26]  0.866663   0.931240     0.177983     0.918663  0.852784   \n",
       "9  [27, 28, 29]  0.852006   0.982441     0.925630     0.835340  0.823073   \n",
       "\n",
       "   dice_coeff  f1_score  \n",
       "0    0.949778  0.867521  \n",
       "1    0.917488  0.761862  \n",
       "2    0.977843  0.504840  \n",
       "3    0.957096  0.718273  \n",
       "4    0.969433  0.714726  \n",
       "5    0.908125  0.751503  \n",
       "6    0.976567  0.839826  \n",
       "7    0.623366  0.598168  \n",
       "8    0.919621  0.212807  \n",
       "9    0.902938  0.953106  "
      ]
     },
     "execution_count": 630,
     "metadata": {},
     "output_type": "execute_result"
    }
   ],
   "source": [
    "df"
   ]
  },
  {
   "cell_type": "code",
   "execution_count": 631,
   "metadata": {},
   "outputs": [],
   "source": [
    "metrics_df = df.drop(columns=['image_idxs'])"
   ]
  },
  {
   "cell_type": "code",
   "execution_count": 632,
   "metadata": {},
   "outputs": [],
   "source": [
    "cols = metrics_df.columns\n",
    "n_samples, n_features = metrics_df.shape"
   ]
  },
  {
   "cell_type": "code",
   "execution_count": 633,
   "metadata": {},
   "outputs": [
    {
     "data": {
      "text/plain": [
       "['accuracy',\n",
       " 'precision',\n",
       " 'specificity',\n",
       " 'sensibility',\n",
       " 'IoU',\n",
       " 'dice_coeff',\n",
       " 'f1_score']"
      ]
     },
     "execution_count": 633,
     "metadata": {},
     "output_type": "execute_result"
    }
   ],
   "source": [
    "list(cols)"
   ]
  },
  {
   "cell_type": "code",
   "execution_count": 634,
   "metadata": {},
   "outputs": [
    {
     "data": {
      "text/plain": [
       "accuracy       0.874897\n",
       "precision      0.940024\n",
       "specificity    0.612179\n",
       "sensibility    0.901253\n",
       "IoU            0.849865\n",
       "dice_coeff     0.910225\n",
       "f1_score       0.692263\n",
       "dtype: float64"
      ]
     },
     "execution_count": 634,
     "metadata": {},
     "output_type": "execute_result"
    }
   ],
   "source": [
    "means = metrics_df.mean()\n",
    "means"
   ]
  },
  {
   "cell_type": "code",
   "execution_count": 635,
   "metadata": {},
   "outputs": [
    {
     "data": {
      "text/plain": [
       "accuracy       0.011563\n",
       "precision      0.002874\n",
       "specificity    0.021172\n",
       "sensibility    0.015263\n",
       "IoU            0.014396\n",
       "dice_coeff     0.010474\n",
       "f1_score       0.021185\n",
       "dtype: float64"
      ]
     },
     "execution_count": 635,
     "metadata": {},
     "output_type": "execute_result"
    }
   ],
   "source": [
    "stds = metrics_df.std()/n_samples\n",
    "stds"
   ]
  },
  {
   "cell_type": "code",
   "execution_count": 636,
   "metadata": {},
   "outputs": [],
   "source": [
    "n_decimals = 4\n",
    "cross_val_data = [f\"{means.iloc[i]:0.{n_decimals}f} +- {stds.iloc[i]:0.{n_decimals}f}\" for i in range(n_features)]"
   ]
  },
  {
   "cell_type": "code",
   "execution_count": 637,
   "metadata": {},
   "outputs": [
    {
     "data": {
      "text/plain": [
       "accuracy       0.8749 +- 0.0116\n",
       "precision      0.9400 +- 0.0029\n",
       "specificity    0.6122 +- 0.0212\n",
       "sensibility    0.9013 +- 0.0153\n",
       "IoU            0.8499 +- 0.0144\n",
       "dice_coeff     0.9102 +- 0.0105\n",
       "f1_score       0.6923 +- 0.0212\n",
       "Name: 0, dtype: object"
      ]
     },
     "execution_count": 637,
     "metadata": {},
     "output_type": "execute_result"
    }
   ],
   "source": [
    "cross_val_metrics_df = pd.DataFrame([cross_val_data], columns=tuple(cols))\n",
    "cross_val_metrics_df.loc[0]"
   ]
  },
  {
   "cell_type": "code",
   "execution_count": 638,
   "metadata": {},
   "outputs": [],
   "source": [
    "cross_val_metrics_df.to_csv(path+\"cross_val_metrics.csv\", index=False, columns=tuple(cols))"
   ]
  }
 ],
 "metadata": {
  "kernelspec": {
   "display_name": "data-science-env",
   "language": "python",
   "name": "python3"
  },
  "language_info": {
   "codemirror_mode": {
    "name": "ipython",
    "version": 3
   },
   "file_extension": ".py",
   "mimetype": "text/x-python",
   "name": "python",
   "nbconvert_exporter": "python",
   "pygments_lexer": "ipython3",
   "version": "3.11.7"
  }
 },
 "nbformat": 4,
 "nbformat_minor": 2
}
