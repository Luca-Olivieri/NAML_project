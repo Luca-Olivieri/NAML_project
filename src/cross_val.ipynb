{
 "cells": [
  {
   "cell_type": "code",
   "execution_count": 2,
   "metadata": {},
   "outputs": [],
   "source": [
    "import pandas as pd\n",
    "import json"
   ]
  },
  {
   "cell_type": "markdown",
   "metadata": {},
   "source": [
    "Inception v3 trained on balanced dataset, focal loss $\\gamma = 2$, 5 epochs, 100 batch size, Adam lr=0.0005"
   ]
  },
  {
   "cell_type": "code",
   "execution_count": 3,
   "metadata": {},
   "outputs": [],
   "source": [
    "# path = \"../results/inception_v3/fl/\"\n",
    "path = \"../results/inception_v3/xen/\"\n",
    "# path = \"../results/AlexNet/xen/\"\n",
    "# path = \"../results/AlexNet/xen_2/\""
   ]
  },
  {
   "cell_type": "code",
   "execution_count": 4,
   "metadata": {},
   "outputs": [],
   "source": [
    "df = pd.read_csv(path+\"avg_metrics.csv\")"
   ]
  },
  {
   "cell_type": "code",
   "execution_count": 5,
   "metadata": {},
   "outputs": [
    {
     "data": {
      "text/plain": [
       "Index(['image_idxs', 'accuracy', 'precision', 'specificity', 'sensibility',\n",
       "       'IoU', 'dice_coeff', 'f1_score'],\n",
       "      dtype='object')"
      ]
     },
     "execution_count": 5,
     "metadata": {},
     "output_type": "execute_result"
    }
   ],
   "source": [
    "df.columns"
   ]
  },
  {
   "cell_type": "code",
   "execution_count": 6,
   "metadata": {},
   "outputs": [],
   "source": [
    "# Function to parse indices string into list of ints\n",
    "def parse_json_column(json_str):\n",
    "    try:\n",
    "        return json.loads(json_str)\n",
    "    except (TypeError, json.JSONDecodeError):\n",
    "        return None\n",
    "\n",
    "# Apply the parsing function to the 'data' column\n",
    "df[\"image_idxs\"] = df[\"image_idxs\"].apply(parse_json_column)"
   ]
  },
  {
   "cell_type": "code",
   "execution_count": 7,
   "metadata": {},
   "outputs": [
    {
     "data": {
      "text/html": [
       "<div>\n",
       "<style scoped>\n",
       "    .dataframe tbody tr th:only-of-type {\n",
       "        vertical-align: middle;\n",
       "    }\n",
       "\n",
       "    .dataframe tbody tr th {\n",
       "        vertical-align: top;\n",
       "    }\n",
       "\n",
       "    .dataframe thead th {\n",
       "        text-align: right;\n",
       "    }\n",
       "</style>\n",
       "<table border=\"1\" class=\"dataframe\">\n",
       "  <thead>\n",
       "    <tr style=\"text-align: right;\">\n",
       "      <th></th>\n",
       "      <th>image_idxs</th>\n",
       "      <th>accuracy</th>\n",
       "      <th>precision</th>\n",
       "      <th>specificity</th>\n",
       "      <th>sensibility</th>\n",
       "      <th>IoU</th>\n",
       "      <th>dice_coeff</th>\n",
       "      <th>f1_score</th>\n",
       "    </tr>\n",
       "  </thead>\n",
       "  <tbody>\n",
       "    <tr>\n",
       "      <th>0</th>\n",
       "      <td>[0, 1, 2]</td>\n",
       "      <td>0.918296</td>\n",
       "      <td>0.953550</td>\n",
       "      <td>0.841486</td>\n",
       "      <td>0.937204</td>\n",
       "      <td>0.896572</td>\n",
       "      <td>0.945208</td>\n",
       "      <td>0.893532</td>\n",
       "    </tr>\n",
       "    <tr>\n",
       "      <th>1</th>\n",
       "      <td>[3, 4, 5]</td>\n",
       "      <td>0.865958</td>\n",
       "      <td>0.934580</td>\n",
       "      <td>0.807934</td>\n",
       "      <td>0.878138</td>\n",
       "      <td>0.827613</td>\n",
       "      <td>0.905372</td>\n",
       "      <td>0.865557</td>\n",
       "    </tr>\n",
       "    <tr>\n",
       "      <th>2</th>\n",
       "      <td>[6, 7, 8]</td>\n",
       "      <td>0.961393</td>\n",
       "      <td>0.973876</td>\n",
       "      <td>0.596367</td>\n",
       "      <td>0.983999</td>\n",
       "      <td>0.958744</td>\n",
       "      <td>0.978903</td>\n",
       "      <td>0.725794</td>\n",
       "    </tr>\n",
       "    <tr>\n",
       "      <th>3</th>\n",
       "      <td>[9, 10, 11]</td>\n",
       "      <td>0.933863</td>\n",
       "      <td>0.947225</td>\n",
       "      <td>0.704407</td>\n",
       "      <td>0.975952</td>\n",
       "      <td>0.925551</td>\n",
       "      <td>0.961333</td>\n",
       "      <td>0.807089</td>\n",
       "    </tr>\n",
       "    <tr>\n",
       "      <th>4</th>\n",
       "      <td>[12, 13, 14]</td>\n",
       "      <td>0.938709</td>\n",
       "      <td>0.969998</td>\n",
       "      <td>0.688468</td>\n",
       "      <td>0.961000</td>\n",
       "      <td>0.933423</td>\n",
       "      <td>0.965473</td>\n",
       "      <td>0.800992</td>\n",
       "    </tr>\n",
       "    <tr>\n",
       "      <th>5</th>\n",
       "      <td>[15, 16, 17]</td>\n",
       "      <td>0.883914</td>\n",
       "      <td>0.887994</td>\n",
       "      <td>0.672692</td>\n",
       "      <td>0.944407</td>\n",
       "      <td>0.845602</td>\n",
       "      <td>0.914879</td>\n",
       "      <td>0.758147</td>\n",
       "    </tr>\n",
       "    <tr>\n",
       "      <th>6</th>\n",
       "      <td>[18, 19, 20]</td>\n",
       "      <td>0.950076</td>\n",
       "      <td>0.951141</td>\n",
       "      <td>0.612103</td>\n",
       "      <td>0.994076</td>\n",
       "      <td>0.945828</td>\n",
       "      <td>0.972067</td>\n",
       "      <td>0.742960</td>\n",
       "    </tr>\n",
       "    <tr>\n",
       "      <th>7</th>\n",
       "      <td>[21, 22, 23]</td>\n",
       "      <td>0.806899</td>\n",
       "      <td>0.794264</td>\n",
       "      <td>0.603529</td>\n",
       "      <td>0.875334</td>\n",
       "      <td>0.763686</td>\n",
       "      <td>0.864898</td>\n",
       "      <td>0.681789</td>\n",
       "    </tr>\n",
       "    <tr>\n",
       "      <th>8</th>\n",
       "      <td>[24, 25, 26]</td>\n",
       "      <td>0.868155</td>\n",
       "      <td>0.786452</td>\n",
       "      <td>0.513866</td>\n",
       "      <td>0.922327</td>\n",
       "      <td>0.854315</td>\n",
       "      <td>0.920304</td>\n",
       "      <td>0.621588</td>\n",
       "    </tr>\n",
       "    <tr>\n",
       "      <th>9</th>\n",
       "      <td>[27, 28]</td>\n",
       "      <td>0.914234</td>\n",
       "      <td>0.923230</td>\n",
       "      <td>0.549353</td>\n",
       "      <td>0.976260</td>\n",
       "      <td>0.902922</td>\n",
       "      <td>0.948919</td>\n",
       "      <td>0.669523</td>\n",
       "    </tr>\n",
       "  </tbody>\n",
       "</table>\n",
       "</div>"
      ],
      "text/plain": [
       "     image_idxs  accuracy  precision  specificity  sensibility       IoU  \\\n",
       "0     [0, 1, 2]  0.918296   0.953550     0.841486     0.937204  0.896572   \n",
       "1     [3, 4, 5]  0.865958   0.934580     0.807934     0.878138  0.827613   \n",
       "2     [6, 7, 8]  0.961393   0.973876     0.596367     0.983999  0.958744   \n",
       "3   [9, 10, 11]  0.933863   0.947225     0.704407     0.975952  0.925551   \n",
       "4  [12, 13, 14]  0.938709   0.969998     0.688468     0.961000  0.933423   \n",
       "5  [15, 16, 17]  0.883914   0.887994     0.672692     0.944407  0.845602   \n",
       "6  [18, 19, 20]  0.950076   0.951141     0.612103     0.994076  0.945828   \n",
       "7  [21, 22, 23]  0.806899   0.794264     0.603529     0.875334  0.763686   \n",
       "8  [24, 25, 26]  0.868155   0.786452     0.513866     0.922327  0.854315   \n",
       "9      [27, 28]  0.914234   0.923230     0.549353     0.976260  0.902922   \n",
       "\n",
       "   dice_coeff  f1_score  \n",
       "0    0.945208  0.893532  \n",
       "1    0.905372  0.865557  \n",
       "2    0.978903  0.725794  \n",
       "3    0.961333  0.807089  \n",
       "4    0.965473  0.800992  \n",
       "5    0.914879  0.758147  \n",
       "6    0.972067  0.742960  \n",
       "7    0.864898  0.681789  \n",
       "8    0.920304  0.621588  \n",
       "9    0.948919  0.669523  "
      ]
     },
     "execution_count": 7,
     "metadata": {},
     "output_type": "execute_result"
    }
   ],
   "source": [
    "df"
   ]
  },
  {
   "cell_type": "code",
   "execution_count": 8,
   "metadata": {},
   "outputs": [],
   "source": [
    "metrics_df = df.drop(columns=['image_idxs'])"
   ]
  },
  {
   "cell_type": "code",
   "execution_count": 9,
   "metadata": {},
   "outputs": [],
   "source": [
    "cols = metrics_df.columns\n",
    "n_samples, n_features = metrics_df.shape"
   ]
  },
  {
   "cell_type": "code",
   "execution_count": 10,
   "metadata": {},
   "outputs": [
    {
     "data": {
      "text/plain": [
       "['accuracy',\n",
       " 'precision',\n",
       " 'specificity',\n",
       " 'sensibility',\n",
       " 'IoU',\n",
       " 'dice_coeff',\n",
       " 'f1_score']"
      ]
     },
     "execution_count": 10,
     "metadata": {},
     "output_type": "execute_result"
    }
   ],
   "source": [
    "list(cols)"
   ]
  },
  {
   "cell_type": "code",
   "execution_count": 11,
   "metadata": {},
   "outputs": [
    {
     "data": {
      "text/plain": [
       "accuracy       0.904150\n",
       "precision      0.912231\n",
       "specificity    0.659021\n",
       "sensibility    0.944870\n",
       "IoU            0.885426\n",
       "dice_coeff     0.937736\n",
       "f1_score       0.756697\n",
       "dtype: float64"
      ]
     },
     "execution_count": 11,
     "metadata": {},
     "output_type": "execute_result"
    }
   ],
   "source": [
    "means = metrics_df.mean()\n",
    "means"
   ]
  },
  {
   "cell_type": "code",
   "execution_count": 12,
   "metadata": {},
   "outputs": [
    {
     "data": {
      "text/plain": [
       "accuracy       0.004759\n",
       "precision      0.006874\n",
       "specificity    0.010588\n",
       "sensibility    0.004219\n",
       "IoU            0.006154\n",
       "dice_coeff     0.003584\n",
       "f1_score       0.008672\n",
       "dtype: float64"
      ]
     },
     "execution_count": 12,
     "metadata": {},
     "output_type": "execute_result"
    }
   ],
   "source": [
    "non_nan_counts = metrics_df.count()\n",
    "stds = metrics_df.std()/non_nan_counts\n",
    "stds"
   ]
  },
  {
   "cell_type": "code",
   "execution_count": 13,
   "metadata": {},
   "outputs": [],
   "source": [
    "n_decimals = 4\n",
    "cross_val_data = [f\"{means.iloc[i]:0.{n_decimals}f} +- {stds.iloc[i]:0.{n_decimals}f}\" for i in range(n_features)]"
   ]
  },
  {
   "cell_type": "code",
   "execution_count": 14,
   "metadata": {},
   "outputs": [
    {
     "data": {
      "text/plain": [
       "accuracy       0.9041 +- 0.0048\n",
       "precision      0.9122 +- 0.0069\n",
       "specificity    0.6590 +- 0.0106\n",
       "sensibility    0.9449 +- 0.0042\n",
       "IoU            0.8854 +- 0.0062\n",
       "dice_coeff     0.9377 +- 0.0036\n",
       "f1_score       0.7567 +- 0.0087\n",
       "Name: 0, dtype: object"
      ]
     },
     "execution_count": 14,
     "metadata": {},
     "output_type": "execute_result"
    }
   ],
   "source": [
    "cross_val_metrics_df = pd.DataFrame([cross_val_data], columns=tuple(cols))\n",
    "cross_val_metrics_df.loc[0]"
   ]
  }
 ],
 "metadata": {
  "kernelspec": {
   "display_name": "data-science-env",
   "language": "python",
   "name": "python3"
  },
  "language_info": {
   "codemirror_mode": {
    "name": "ipython",
    "version": 3
   },
   "file_extension": ".py",
   "mimetype": "text/x-python",
   "name": "python",
   "nbconvert_exporter": "python",
   "pygments_lexer": "ipython3",
   "version": "3.11.7"
  }
 },
 "nbformat": 4,
 "nbformat_minor": 2
}
