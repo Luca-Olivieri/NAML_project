{
 "cells": [
  {
   "cell_type": "code",
   "execution_count": 1,
   "metadata": {},
   "outputs": [],
   "source": [
    "import pandas as pd\n",
    "import json"
   ]
  },
  {
   "cell_type": "markdown",
   "metadata": {},
   "source": [
    "Inception v3 trained on balanced dataset, focal loss $\\gamma = 2$, 5 epochs, 100 batch size, Adam lr=0.0005"
   ]
  },
  {
   "cell_type": "code",
   "execution_count": 2,
   "metadata": {},
   "outputs": [],
   "source": [
    "# path = \"../results/inception_v3/I1 - fl/\"\n",
    "# path = \"../results/inception_v3/I2 - xen/\"\n",
    "path = \"../results/AlexNet/A1 - xen/\"\n",
    "# path = \"../results/AlexNet/A1 - xen reg/\""
   ]
  },
  {
   "cell_type": "code",
   "execution_count": 3,
   "metadata": {},
   "outputs": [],
   "source": [
    "df = pd.read_csv(path+\"avg_metrics.csv\")"
   ]
  },
  {
   "cell_type": "code",
   "execution_count": 4,
   "metadata": {},
   "outputs": [
    {
     "data": {
      "text/plain": [
       "Index(['image_idxs', 'accuracy', 'precision', 'specificity', 'sensibility',\n",
       "       'IoU', 'dice_coeff', 'f1_score'],\n",
       "      dtype='object')"
      ]
     },
     "execution_count": 4,
     "metadata": {},
     "output_type": "execute_result"
    }
   ],
   "source": [
    "df.columns"
   ]
  },
  {
   "cell_type": "code",
   "execution_count": 5,
   "metadata": {},
   "outputs": [],
   "source": [
    "# Function to parse indices string into list of ints\n",
    "def parse_json_column(json_str):\n",
    "    try:\n",
    "        return json.loads(json_str)\n",
    "    except (TypeError, json.JSONDecodeError):\n",
    "        return None\n",
    "\n",
    "# Apply the parsing function to the 'data' column\n",
    "df[\"image_idxs\"] = df[\"image_idxs\"].apply(parse_json_column)"
   ]
  },
  {
   "cell_type": "code",
   "execution_count": 6,
   "metadata": {},
   "outputs": [
    {
     "data": {
      "text/html": [
       "<div>\n",
       "<style scoped>\n",
       "    .dataframe tbody tr th:only-of-type {\n",
       "        vertical-align: middle;\n",
       "    }\n",
       "\n",
       "    .dataframe tbody tr th {\n",
       "        vertical-align: top;\n",
       "    }\n",
       "\n",
       "    .dataframe thead th {\n",
       "        text-align: right;\n",
       "    }\n",
       "</style>\n",
       "<table border=\"1\" class=\"dataframe\">\n",
       "  <thead>\n",
       "    <tr style=\"text-align: right;\">\n",
       "      <th></th>\n",
       "      <th>image_idxs</th>\n",
       "      <th>accuracy</th>\n",
       "      <th>precision</th>\n",
       "      <th>specificity</th>\n",
       "      <th>sensibility</th>\n",
       "      <th>IoU</th>\n",
       "      <th>dice_coeff</th>\n",
       "      <th>f1_score</th>\n",
       "    </tr>\n",
       "  </thead>\n",
       "  <tbody>\n",
       "    <tr>\n",
       "      <th>0</th>\n",
       "      <td>[0, 1, 2]</td>\n",
       "      <td>0.924729</td>\n",
       "      <td>0.936870</td>\n",
       "      <td>0.771766</td>\n",
       "      <td>0.965847</td>\n",
       "      <td>0.906932</td>\n",
       "      <td>0.951105</td>\n",
       "      <td>0.951138</td>\n",
       "    </tr>\n",
       "    <tr>\n",
       "      <th>1</th>\n",
       "      <td>[3, 4, 5]</td>\n",
       "      <td>0.813175</td>\n",
       "      <td>0.960840</td>\n",
       "      <td>0.900528</td>\n",
       "      <td>0.780989</td>\n",
       "      <td>0.756859</td>\n",
       "      <td>0.861599</td>\n",
       "      <td>0.861629</td>\n",
       "    </tr>\n",
       "    <tr>\n",
       "      <th>2</th>\n",
       "      <td>[6, 7, 8]</td>\n",
       "      <td>0.960370</td>\n",
       "      <td>0.963044</td>\n",
       "      <td>0.439845</td>\n",
       "      <td>0.994812</td>\n",
       "      <td>0.958276</td>\n",
       "      <td>0.978643</td>\n",
       "      <td>0.978670</td>\n",
       "    </tr>\n",
       "    <tr>\n",
       "      <th>3</th>\n",
       "      <td>[9, 10, 11]</td>\n",
       "      <td>0.930805</td>\n",
       "      <td>0.937141</td>\n",
       "      <td>0.646618</td>\n",
       "      <td>0.983894</td>\n",
       "      <td>0.922994</td>\n",
       "      <td>0.959923</td>\n",
       "      <td>0.959949</td>\n",
       "    </tr>\n",
       "    <tr>\n",
       "      <th>4</th>\n",
       "      <td>[12, 13, 14]</td>\n",
       "      <td>0.943625</td>\n",
       "      <td>0.945754</td>\n",
       "      <td>0.428313</td>\n",
       "      <td>0.994108</td>\n",
       "      <td>0.940493</td>\n",
       "      <td>0.969233</td>\n",
       "      <td>0.969328</td>\n",
       "    </tr>\n",
       "    <tr>\n",
       "      <th>5</th>\n",
       "      <td>[15, 16, 17]</td>\n",
       "      <td>0.883235</td>\n",
       "      <td>0.929338</td>\n",
       "      <td>0.765537</td>\n",
       "      <td>0.888965</td>\n",
       "      <td>0.834407</td>\n",
       "      <td>0.907891</td>\n",
       "      <td>0.908703</td>\n",
       "    </tr>\n",
       "    <tr>\n",
       "      <th>6</th>\n",
       "      <td>[18, 19, 20]</td>\n",
       "      <td>0.950000</td>\n",
       "      <td>0.954426</td>\n",
       "      <td>0.618978</td>\n",
       "      <td>0.990647</td>\n",
       "      <td>0.945974</td>\n",
       "      <td>0.972161</td>\n",
       "      <td>0.972199</td>\n",
       "    </tr>\n",
       "    <tr>\n",
       "      <th>7</th>\n",
       "      <td>[21, 22, 23]</td>\n",
       "      <td>0.876968</td>\n",
       "      <td>0.787218</td>\n",
       "      <td>0.558669</td>\n",
       "      <td>0.974598</td>\n",
       "      <td>0.842288</td>\n",
       "      <td>0.910503</td>\n",
       "      <td>0.870943</td>\n",
       "    </tr>\n",
       "    <tr>\n",
       "      <th>8</th>\n",
       "      <td>[24, 25, 26]</td>\n",
       "      <td>0.926233</td>\n",
       "      <td>0.768749</td>\n",
       "      <td>0.450091</td>\n",
       "      <td>0.990314</td>\n",
       "      <td>0.913857</td>\n",
       "      <td>0.951723</td>\n",
       "      <td>0.865578</td>\n",
       "    </tr>\n",
       "    <tr>\n",
       "      <th>9</th>\n",
       "      <td>[27, 28]</td>\n",
       "      <td>0.916343</td>\n",
       "      <td>0.916406</td>\n",
       "      <td>0.503293</td>\n",
       "      <td>0.988319</td>\n",
       "      <td>0.906585</td>\n",
       "      <td>0.950987</td>\n",
       "      <td>0.951005</td>\n",
       "    </tr>\n",
       "  </tbody>\n",
       "</table>\n",
       "</div>"
      ],
      "text/plain": [
       "     image_idxs  accuracy  precision  specificity  sensibility       IoU  \\\n",
       "0     [0, 1, 2]  0.924729   0.936870     0.771766     0.965847  0.906932   \n",
       "1     [3, 4, 5]  0.813175   0.960840     0.900528     0.780989  0.756859   \n",
       "2     [6, 7, 8]  0.960370   0.963044     0.439845     0.994812  0.958276   \n",
       "3   [9, 10, 11]  0.930805   0.937141     0.646618     0.983894  0.922994   \n",
       "4  [12, 13, 14]  0.943625   0.945754     0.428313     0.994108  0.940493   \n",
       "5  [15, 16, 17]  0.883235   0.929338     0.765537     0.888965  0.834407   \n",
       "6  [18, 19, 20]  0.950000   0.954426     0.618978     0.990647  0.945974   \n",
       "7  [21, 22, 23]  0.876968   0.787218     0.558669     0.974598  0.842288   \n",
       "8  [24, 25, 26]  0.926233   0.768749     0.450091     0.990314  0.913857   \n",
       "9      [27, 28]  0.916343   0.916406     0.503293     0.988319  0.906585   \n",
       "\n",
       "   dice_coeff  f1_score  \n",
       "0    0.951105  0.951138  \n",
       "1    0.861599  0.861629  \n",
       "2    0.978643  0.978670  \n",
       "3    0.959923  0.959949  \n",
       "4    0.969233  0.969328  \n",
       "5    0.907891  0.908703  \n",
       "6    0.972161  0.972199  \n",
       "7    0.910503  0.870943  \n",
       "8    0.951723  0.865578  \n",
       "9    0.950987  0.951005  "
      ]
     },
     "execution_count": 6,
     "metadata": {},
     "output_type": "execute_result"
    }
   ],
   "source": [
    "df"
   ]
  },
  {
   "cell_type": "code",
   "execution_count": 7,
   "metadata": {},
   "outputs": [],
   "source": [
    "metrics_df = df.drop(columns=['image_idxs'])"
   ]
  },
  {
   "cell_type": "code",
   "execution_count": 8,
   "metadata": {},
   "outputs": [],
   "source": [
    "cols = metrics_df.columns\n",
    "n_samples, n_features = metrics_df.shape"
   ]
  },
  {
   "cell_type": "code",
   "execution_count": 9,
   "metadata": {},
   "outputs": [
    {
     "data": {
      "text/plain": [
       "['accuracy',\n",
       " 'precision',\n",
       " 'specificity',\n",
       " 'sensibility',\n",
       " 'IoU',\n",
       " 'dice_coeff',\n",
       " 'f1_score']"
      ]
     },
     "execution_count": 9,
     "metadata": {},
     "output_type": "execute_result"
    }
   ],
   "source": [
    "list(cols)"
   ]
  },
  {
   "cell_type": "code",
   "execution_count": 10,
   "metadata": {},
   "outputs": [
    {
     "data": {
      "text/plain": [
       "accuracy       0.912548\n",
       "precision      0.909979\n",
       "specificity    0.608364\n",
       "sensibility    0.955249\n",
       "IoU            0.892866\n",
       "dice_coeff     0.941377\n",
       "f1_score       0.928914\n",
       "dtype: float64"
      ]
     },
     "execution_count": 10,
     "metadata": {},
     "output_type": "execute_result"
    }
   ],
   "source": [
    "means = metrics_df.mean()\n",
    "means"
   ]
  },
  {
   "cell_type": "code",
   "execution_count": 11,
   "metadata": {},
   "outputs": [
    {
     "data": {
      "text/plain": [
       "accuracy       0.004389\n",
       "precision      0.007114\n",
       "specificity    0.016252\n",
       "sensibility    0.006890\n",
       "IoU            0.006287\n",
       "dice_coeff     0.003680\n",
       "f1_score       0.004742\n",
       "dtype: float64"
      ]
     },
     "execution_count": 11,
     "metadata": {},
     "output_type": "execute_result"
    }
   ],
   "source": [
    "non_nan_counts = metrics_df.count()\n",
    "stds = metrics_df.std()/non_nan_counts\n",
    "stds"
   ]
  },
  {
   "cell_type": "code",
   "execution_count": 12,
   "metadata": {},
   "outputs": [],
   "source": [
    "n_decimals = 4\n",
    "cross_val_data = [f\"{means.iloc[i]:0.{n_decimals}f} +- {stds.iloc[i]:0.{n_decimals}f}\" for i in range(n_features)]"
   ]
  },
  {
   "cell_type": "code",
   "execution_count": 13,
   "metadata": {},
   "outputs": [
    {
     "data": {
      "text/plain": [
       "accuracy       0.9125 +- 0.0044\n",
       "precision      0.9100 +- 0.0071\n",
       "specificity    0.6084 +- 0.0163\n",
       "sensibility    0.9552 +- 0.0069\n",
       "IoU            0.8929 +- 0.0063\n",
       "dice_coeff     0.9414 +- 0.0037\n",
       "f1_score       0.9289 +- 0.0047\n",
       "Name: 0, dtype: object"
      ]
     },
     "execution_count": 13,
     "metadata": {},
     "output_type": "execute_result"
    }
   ],
   "source": [
    "cross_val_metrics_df = pd.DataFrame([cross_val_data], columns=tuple(cols))\n",
    "cross_val_metrics_df.loc[0]"
   ]
  }
 ],
 "metadata": {
  "kernelspec": {
   "display_name": "data-science-env",
   "language": "python",
   "name": "python3"
  },
  "language_info": {
   "codemirror_mode": {
    "name": "ipython",
    "version": 3
   },
   "file_extension": ".py",
   "mimetype": "text/x-python",
   "name": "python",
   "nbconvert_exporter": "python",
   "pygments_lexer": "ipython3",
   "version": "3.11.7"
  }
 },
 "nbformat": 4,
 "nbformat_minor": 2
}
