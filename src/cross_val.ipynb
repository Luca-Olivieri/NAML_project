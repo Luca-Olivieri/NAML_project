{
 "cells": [
  {
   "cell_type": "code",
   "execution_count": 15,
   "metadata": {},
   "outputs": [],
   "source": [
    "import pandas as pd\n",
    "import json"
   ]
  },
  {
   "cell_type": "markdown",
   "metadata": {},
   "source": [
    "Inception v3 trained on balanced dataset, focal loss $\\gamma = 2$, 5 epochs, 100 batch size, Adam lr=0.0005"
   ]
  },
  {
   "cell_type": "code",
   "execution_count": 16,
   "metadata": {},
   "outputs": [],
   "source": [
    "# path = \"../results/inception_v3/fl/\"\n",
    "path = \"../results/AlexNet/xen/\""
   ]
  },
  {
   "cell_type": "code",
   "execution_count": 17,
   "metadata": {},
   "outputs": [],
   "source": [
    "df = pd.read_csv(path+\"avg_metrics.csv\")"
   ]
  },
  {
   "cell_type": "code",
   "execution_count": 18,
   "metadata": {},
   "outputs": [
    {
     "data": {
      "text/plain": [
       "Index(['image_idxs', 'accuracy', 'precision', 'specificity', 'sensibility',\n",
       "       'IoU', 'dice_coeff', 'f1_score'],\n",
       "      dtype='object')"
      ]
     },
     "execution_count": 18,
     "metadata": {},
     "output_type": "execute_result"
    }
   ],
   "source": [
    "df.columns"
   ]
  },
  {
   "cell_type": "code",
   "execution_count": 19,
   "metadata": {},
   "outputs": [],
   "source": [
    "# Function to parse indices string into list of ints\n",
    "def parse_json_column(json_str):\n",
    "    try:\n",
    "        return json.loads(json_str)\n",
    "    except (TypeError, json.JSONDecodeError):\n",
    "        return None\n",
    "\n",
    "# Apply the parsing function to the 'data' column\n",
    "df[\"image_idxs\"] = df[\"image_idxs\"].apply(parse_json_column)"
   ]
  },
  {
   "cell_type": "code",
   "execution_count": 20,
   "metadata": {},
   "outputs": [
    {
     "data": {
      "text/html": [
       "<div>\n",
       "<style scoped>\n",
       "    .dataframe tbody tr th:only-of-type {\n",
       "        vertical-align: middle;\n",
       "    }\n",
       "\n",
       "    .dataframe tbody tr th {\n",
       "        vertical-align: top;\n",
       "    }\n",
       "\n",
       "    .dataframe thead th {\n",
       "        text-align: right;\n",
       "    }\n",
       "</style>\n",
       "<table border=\"1\" class=\"dataframe\">\n",
       "  <thead>\n",
       "    <tr style=\"text-align: right;\">\n",
       "      <th></th>\n",
       "      <th>image_idxs</th>\n",
       "      <th>accuracy</th>\n",
       "      <th>precision</th>\n",
       "      <th>specificity</th>\n",
       "      <th>sensibility</th>\n",
       "      <th>IoU</th>\n",
       "      <th>dice_coeff</th>\n",
       "      <th>f1_score</th>\n",
       "    </tr>\n",
       "  </thead>\n",
       "  <tbody>\n",
       "    <tr>\n",
       "      <th>0</th>\n",
       "      <td>[0, 1, 2]</td>\n",
       "      <td>0.919238</td>\n",
       "      <td>0.919170</td>\n",
       "      <td>0.702801</td>\n",
       "      <td>0.980183</td>\n",
       "      <td>0.902480</td>\n",
       "      <td>0.948644</td>\n",
       "      <td>0.794920</td>\n",
       "    </tr>\n",
       "    <tr>\n",
       "      <th>1</th>\n",
       "      <td>[3, 4, 5]</td>\n",
       "      <td>0.880106</td>\n",
       "      <td>0.870127</td>\n",
       "      <td>0.549327</td>\n",
       "      <td>0.983402</td>\n",
       "      <td>0.857717</td>\n",
       "      <td>0.923161</td>\n",
       "      <td>0.665914</td>\n",
       "    </tr>\n",
       "    <tr>\n",
       "      <th>2</th>\n",
       "      <td>[6, 7, 8]</td>\n",
       "      <td>0.958229</td>\n",
       "      <td>0.958932</td>\n",
       "      <td>0.366178</td>\n",
       "      <td>0.997110</td>\n",
       "      <td>0.956290</td>\n",
       "      <td>0.977608</td>\n",
       "      <td>0.484766</td>\n",
       "    </tr>\n",
       "    <tr>\n",
       "      <th>3</th>\n",
       "      <td>[9, 10, 11]</td>\n",
       "      <td>0.917008</td>\n",
       "      <td>0.913916</td>\n",
       "      <td>0.494735</td>\n",
       "      <td>0.995401</td>\n",
       "      <td>0.910052</td>\n",
       "      <td>0.952885</td>\n",
       "      <td>0.639135</td>\n",
       "    </tr>\n",
       "    <tr>\n",
       "      <th>4</th>\n",
       "      <td>[12, 13, 14]</td>\n",
       "      <td>0.944509</td>\n",
       "      <td>0.945661</td>\n",
       "      <td>0.421313</td>\n",
       "      <td>0.995233</td>\n",
       "      <td>0.941425</td>\n",
       "      <td>0.969734</td>\n",
       "      <td>0.567903</td>\n",
       "    </tr>\n",
       "    <tr>\n",
       "      <th>5</th>\n",
       "      <td>[15, 16, 17]</td>\n",
       "      <td>0.880958</td>\n",
       "      <td>0.877920</td>\n",
       "      <td>0.617178</td>\n",
       "      <td>0.954530</td>\n",
       "      <td>0.844732</td>\n",
       "      <td>0.914410</td>\n",
       "      <td>0.711863</td>\n",
       "    </tr>\n",
       "    <tr>\n",
       "      <th>6</th>\n",
       "      <td>[18, 19, 20]</td>\n",
       "      <td>0.952462</td>\n",
       "      <td>0.951943</td>\n",
       "      <td>0.609916</td>\n",
       "      <td>0.996094</td>\n",
       "      <td>0.948419</td>\n",
       "      <td>0.973468</td>\n",
       "      <td>0.740835</td>\n",
       "    </tr>\n",
       "    <tr>\n",
       "      <th>7</th>\n",
       "      <td>[21, 22, 23]</td>\n",
       "      <td>0.883123</td>\n",
       "      <td>0.878553</td>\n",
       "      <td>0.428735</td>\n",
       "      <td>0.953104</td>\n",
       "      <td>0.845483</td>\n",
       "      <td>0.913152</td>\n",
       "      <td>0.478037</td>\n",
       "    </tr>\n",
       "    <tr>\n",
       "      <th>8</th>\n",
       "      <td>[24, 25, 26]</td>\n",
       "      <td>0.930773</td>\n",
       "      <td>0.921518</td>\n",
       "      <td>0.145587</td>\n",
       "      <td>0.996479</td>\n",
       "      <td>0.918565</td>\n",
       "      <td>0.953929</td>\n",
       "      <td>0.185312</td>\n",
       "    </tr>\n",
       "    <tr>\n",
       "      <th>9</th>\n",
       "      <td>[27, 28]</td>\n",
       "      <td>0.917656</td>\n",
       "      <td>0.936738</td>\n",
       "      <td>0.634230</td>\n",
       "      <td>0.963887</td>\n",
       "      <td>0.904863</td>\n",
       "      <td>0.949920</td>\n",
       "      <td>0.744507</td>\n",
       "    </tr>\n",
       "  </tbody>\n",
       "</table>\n",
       "</div>"
      ],
      "text/plain": [
       "     image_idxs  accuracy  precision  specificity  sensibility       IoU  \\\n",
       "0     [0, 1, 2]  0.919238   0.919170     0.702801     0.980183  0.902480   \n",
       "1     [3, 4, 5]  0.880106   0.870127     0.549327     0.983402  0.857717   \n",
       "2     [6, 7, 8]  0.958229   0.958932     0.366178     0.997110  0.956290   \n",
       "3   [9, 10, 11]  0.917008   0.913916     0.494735     0.995401  0.910052   \n",
       "4  [12, 13, 14]  0.944509   0.945661     0.421313     0.995233  0.941425   \n",
       "5  [15, 16, 17]  0.880958   0.877920     0.617178     0.954530  0.844732   \n",
       "6  [18, 19, 20]  0.952462   0.951943     0.609916     0.996094  0.948419   \n",
       "7  [21, 22, 23]  0.883123   0.878553     0.428735     0.953104  0.845483   \n",
       "8  [24, 25, 26]  0.930773   0.921518     0.145587     0.996479  0.918565   \n",
       "9      [27, 28]  0.917656   0.936738     0.634230     0.963887  0.904863   \n",
       "\n",
       "   dice_coeff  f1_score  \n",
       "0    0.948644  0.794920  \n",
       "1    0.923161  0.665914  \n",
       "2    0.977608  0.484766  \n",
       "3    0.952885  0.639135  \n",
       "4    0.969734  0.567903  \n",
       "5    0.914410  0.711863  \n",
       "6    0.973468  0.740835  \n",
       "7    0.913152  0.478037  \n",
       "8    0.953929  0.185312  \n",
       "9    0.949920  0.744507  "
      ]
     },
     "execution_count": 20,
     "metadata": {},
     "output_type": "execute_result"
    }
   ],
   "source": [
    "df"
   ]
  },
  {
   "cell_type": "code",
   "execution_count": 21,
   "metadata": {},
   "outputs": [],
   "source": [
    "metrics_df = df.drop(columns=['image_idxs'])"
   ]
  },
  {
   "cell_type": "code",
   "execution_count": 22,
   "metadata": {},
   "outputs": [],
   "source": [
    "cols = metrics_df.columns\n",
    "n_samples, n_features = metrics_df.shape"
   ]
  },
  {
   "cell_type": "code",
   "execution_count": 23,
   "metadata": {},
   "outputs": [
    {
     "data": {
      "text/plain": [
       "['accuracy',\n",
       " 'precision',\n",
       " 'specificity',\n",
       " 'sensibility',\n",
       " 'IoU',\n",
       " 'dice_coeff',\n",
       " 'f1_score']"
      ]
     },
     "execution_count": 23,
     "metadata": {},
     "output_type": "execute_result"
    }
   ],
   "source": [
    "list(cols)"
   ]
  },
  {
   "cell_type": "code",
   "execution_count": 24,
   "metadata": {},
   "outputs": [
    {
     "data": {
      "text/plain": [
       "accuracy       0.918406\n",
       "precision      0.917448\n",
       "specificity    0.497000\n",
       "sensibility    0.981542\n",
       "IoU            0.903003\n",
       "dice_coeff     0.947691\n",
       "f1_score       0.601319\n",
       "dtype: float64"
      ]
     },
     "execution_count": 24,
     "metadata": {},
     "output_type": "execute_result"
    }
   ],
   "source": [
    "means = metrics_df.mean()\n",
    "means"
   ]
  },
  {
   "cell_type": "code",
   "execution_count": 25,
   "metadata": {},
   "outputs": [
    {
     "data": {
      "text/plain": [
       "accuracy       0.002924\n",
       "precision      0.003236\n",
       "specificity    0.016402\n",
       "sensibility    0.001799\n",
       "IoU            0.004140\n",
       "dice_coeff     0.002362\n",
       "f1_score       0.018204\n",
       "dtype: float64"
      ]
     },
     "execution_count": 25,
     "metadata": {},
     "output_type": "execute_result"
    }
   ],
   "source": [
    "stds = metrics_df.std()/n_samples\n",
    "stds"
   ]
  },
  {
   "cell_type": "code",
   "execution_count": 26,
   "metadata": {},
   "outputs": [],
   "source": [
    "n_decimals = 4\n",
    "cross_val_data = [f\"{means.iloc[i]:0.{n_decimals}f} +- {stds.iloc[i]:0.{n_decimals}f}\" for i in range(n_features)]"
   ]
  },
  {
   "cell_type": "code",
   "execution_count": 27,
   "metadata": {},
   "outputs": [
    {
     "data": {
      "text/plain": [
       "accuracy       0.9184 +- 0.0029\n",
       "precision      0.9174 +- 0.0032\n",
       "specificity    0.4970 +- 0.0164\n",
       "sensibility    0.9815 +- 0.0018\n",
       "IoU            0.9030 +- 0.0041\n",
       "dice_coeff     0.9477 +- 0.0024\n",
       "f1_score       0.6013 +- 0.0182\n",
       "Name: 0, dtype: object"
      ]
     },
     "execution_count": 27,
     "metadata": {},
     "output_type": "execute_result"
    }
   ],
   "source": [
    "cross_val_metrics_df = pd.DataFrame([cross_val_data], columns=tuple(cols))\n",
    "cross_val_metrics_df.loc[0]"
   ]
  },
  {
   "cell_type": "code",
   "execution_count": 28,
   "metadata": {},
   "outputs": [],
   "source": [
    "cross_val_metrics_df.to_csv(path+\"cross_val_metrics.csv\", index=False, columns=tuple(cols))"
   ]
  }
 ],
 "metadata": {
  "kernelspec": {
   "display_name": "data-science-env",
   "language": "python",
   "name": "python3"
  },
  "language_info": {
   "codemirror_mode": {
    "name": "ipython",
    "version": 3
   },
   "file_extension": ".py",
   "mimetype": "text/x-python",
   "name": "python",
   "nbconvert_exporter": "python",
   "pygments_lexer": "ipython3",
   "version": "3.11.7"
  }
 },
 "nbformat": 4,
 "nbformat_minor": 2
}
